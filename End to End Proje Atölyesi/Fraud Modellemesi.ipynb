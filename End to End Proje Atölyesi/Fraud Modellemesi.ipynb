{
 "cells": [
  {
   "cell_type": "markdown",
   "metadata": {},
   "source": [
    "## Fraud Modellemesi\n",
    "### Veri Bilimi Okulu - 23 Ekim 2019\n",
    "\n",
    "\n",
    "### Bu Notebookta Kaggle'dan aldığımız sentetik bir fraud verisetiyle fraud modellemesi yapacağız.\n",
    "\n",
    "Veriseti: https://www.kaggle.com/c/home-credit-default-risk\n",
    "    \n",
    "    \n",
    "### Verisetinin Açıklaması\n",
    "\n",
    "Bu veriseti kaggle'da 1 yıl önce düzenlenen ev kredisi risk tahmini yarışmasında kullanılan bir verisetidir. \n",
    "\n",
    "### Verinin Yapısı\n",
    "\n",
    "![title](img/home_credit.png)\n",
    "\n",
    "\n",
    "### Neler Yaptık?\n",
    "\n",
    "Veriyi bu hale getirmek için önce yukarıda işaretlediğimiz 3 verisetini SK_ID_CURR üzerinden merge ettik. Ardından, tekilleştirdik. Ardından değişken değişken bakarak, %20'den fazlası boş olan değişkenleri düşürdük. Son olarakta kategorik değişkenler için, dağılımlarına baktık. Eğer değişkenin içerisinde 1 kategori o değişkenin %80'inden fazlasını kapsıyorsa o değişken düşürüldü."
   ]
  },
  {
   "cell_type": "code",
   "execution_count": 1,
   "metadata": {},
   "outputs": [],
   "source": [
    "# Eğer Kütüphaneler yüklü değilse bu hücreyi çalıştırabilirsiniz.\n",
    "!pip install numpy\n",
    "!pip install pandas\n",
    "!pip install sklearn\n",
    "!pip install scikit-learn\n",
    "!pip install Boruta"
   ]
  },
  {
   "cell_type": "code",
   "execution_count": 64,
   "metadata": {},
   "outputs": [],
   "source": [
    "# Kütüphanelerin içeriye alınması\n",
    "import pandas as pd\n",
    "import numpy as np\n",
    "from sklearn.ensemble import RandomForestClassifier\n",
    "from boruta import BorutaPy\n",
    "import matplotlib.pyplot as plt#visualization\n",
    "%matplotlib inline\n",
    "import seaborn as sns#visualization\n",
    "from sklearn.model_selection import train_test_split, GridSearchCV\n",
    "from sklearn.metrics import confusion_matrix, accuracy_score, classification_report\n",
    "import pickle"
   ]
  },
  {
   "cell_type": "code",
   "execution_count": 37,
   "metadata": {},
   "outputs": [
    {
     "data": {
      "text/html": [
       "<div>\n",
       "<style scoped>\n",
       "    .dataframe tbody tr th:only-of-type {\n",
       "        vertical-align: middle;\n",
       "    }\n",
       "\n",
       "    .dataframe tbody tr th {\n",
       "        vertical-align: top;\n",
       "    }\n",
       "\n",
       "    .dataframe thead th {\n",
       "        text-align: right;\n",
       "    }\n",
       "</style>\n",
       "<table border=\"1\" class=\"dataframe\">\n",
       "  <thead>\n",
       "    <tr style=\"text-align: right;\">\n",
       "      <th></th>\n",
       "      <th>TARGET</th>\n",
       "      <th>NAME_CONTRACT_TYPE_x</th>\n",
       "      <th>CODE_GENDER</th>\n",
       "      <th>FLAG_OWN_CAR</th>\n",
       "      <th>FLAG_OWN_REALTY</th>\n",
       "      <th>CNT_CHILDREN</th>\n",
       "      <th>AMT_INCOME_TOTAL</th>\n",
       "      <th>AMT_CREDIT_x</th>\n",
       "      <th>AMT_ANNUITY_x</th>\n",
       "      <th>AMT_GOODS_PRICE_x</th>\n",
       "      <th>...</th>\n",
       "      <th>NAME_PAYMENT_TYPE</th>\n",
       "      <th>CODE_REJECT_REASON</th>\n",
       "      <th>NAME_CLIENT_TYPE</th>\n",
       "      <th>NAME_GOODS_CATEGORY</th>\n",
       "      <th>NAME_PORTFOLIO</th>\n",
       "      <th>NAME_PRODUCT_TYPE</th>\n",
       "      <th>CHANNEL_TYPE</th>\n",
       "      <th>SELLERPLACE_AREA</th>\n",
       "      <th>NAME_SELLER_INDUSTRY</th>\n",
       "      <th>NAME_YIELD_GROUP</th>\n",
       "    </tr>\n",
       "    <tr>\n",
       "      <th>SK_ID_CURR</th>\n",
       "      <th></th>\n",
       "      <th></th>\n",
       "      <th></th>\n",
       "      <th></th>\n",
       "      <th></th>\n",
       "      <th></th>\n",
       "      <th></th>\n",
       "      <th></th>\n",
       "      <th></th>\n",
       "      <th></th>\n",
       "      <th></th>\n",
       "      <th></th>\n",
       "      <th></th>\n",
       "      <th></th>\n",
       "      <th></th>\n",
       "      <th></th>\n",
       "      <th></th>\n",
       "      <th></th>\n",
       "      <th></th>\n",
       "      <th></th>\n",
       "      <th></th>\n",
       "    </tr>\n",
       "  </thead>\n",
       "  <tbody>\n",
       "    <tr>\n",
       "      <th>100002</th>\n",
       "      <td>1</td>\n",
       "      <td>Cash loans</td>\n",
       "      <td>M</td>\n",
       "      <td>N</td>\n",
       "      <td>Y</td>\n",
       "      <td>0</td>\n",
       "      <td>202500.0</td>\n",
       "      <td>406597.5</td>\n",
       "      <td>24700.5</td>\n",
       "      <td>351000.0</td>\n",
       "      <td>...</td>\n",
       "      <td>XNA</td>\n",
       "      <td>XAP</td>\n",
       "      <td>New</td>\n",
       "      <td>Vehicles</td>\n",
       "      <td>POS</td>\n",
       "      <td>XNA</td>\n",
       "      <td>Stone</td>\n",
       "      <td>500.0</td>\n",
       "      <td>Auto technology</td>\n",
       "      <td>low_normal</td>\n",
       "    </tr>\n",
       "    <tr>\n",
       "      <th>100003</th>\n",
       "      <td>0</td>\n",
       "      <td>Cash loans</td>\n",
       "      <td>F</td>\n",
       "      <td>N</td>\n",
       "      <td>N</td>\n",
       "      <td>0</td>\n",
       "      <td>270000.0</td>\n",
       "      <td>1293502.5</td>\n",
       "      <td>35698.5</td>\n",
       "      <td>1129500.0</td>\n",
       "      <td>...</td>\n",
       "      <td>Cash through the bank</td>\n",
       "      <td>XAP</td>\n",
       "      <td>Refreshed</td>\n",
       "      <td>Consumer Electronics</td>\n",
       "      <td>POS</td>\n",
       "      <td>XNA</td>\n",
       "      <td>Country-wide</td>\n",
       "      <td>-1.0</td>\n",
       "      <td>Consumer electronics</td>\n",
       "      <td>middle</td>\n",
       "    </tr>\n",
       "    <tr>\n",
       "      <th>100004</th>\n",
       "      <td>0</td>\n",
       "      <td>Revolving loans</td>\n",
       "      <td>M</td>\n",
       "      <td>Y</td>\n",
       "      <td>Y</td>\n",
       "      <td>0</td>\n",
       "      <td>67500.0</td>\n",
       "      <td>135000.0</td>\n",
       "      <td>6750.0</td>\n",
       "      <td>135000.0</td>\n",
       "      <td>...</td>\n",
       "      <td>Cash through the bank</td>\n",
       "      <td>XAP</td>\n",
       "      <td>New</td>\n",
       "      <td>Mobile</td>\n",
       "      <td>POS</td>\n",
       "      <td>XNA</td>\n",
       "      <td>Regional / Local</td>\n",
       "      <td>30.0</td>\n",
       "      <td>Connectivity</td>\n",
       "      <td>middle</td>\n",
       "    </tr>\n",
       "    <tr>\n",
       "      <th>100006</th>\n",
       "      <td>0</td>\n",
       "      <td>Cash loans</td>\n",
       "      <td>F</td>\n",
       "      <td>N</td>\n",
       "      <td>Y</td>\n",
       "      <td>0</td>\n",
       "      <td>135000.0</td>\n",
       "      <td>312682.5</td>\n",
       "      <td>29686.5</td>\n",
       "      <td>297000.0</td>\n",
       "      <td>...</td>\n",
       "      <td>XNA</td>\n",
       "      <td>XAP</td>\n",
       "      <td>Repeater</td>\n",
       "      <td>XNA</td>\n",
       "      <td>Cash</td>\n",
       "      <td>XNA</td>\n",
       "      <td>Credit and cash offices</td>\n",
       "      <td>-1.0</td>\n",
       "      <td>XNA</td>\n",
       "      <td>XNA</td>\n",
       "    </tr>\n",
       "    <tr>\n",
       "      <th>100007</th>\n",
       "      <td>0</td>\n",
       "      <td>Cash loans</td>\n",
       "      <td>M</td>\n",
       "      <td>N</td>\n",
       "      <td>Y</td>\n",
       "      <td>0</td>\n",
       "      <td>121500.0</td>\n",
       "      <td>513000.0</td>\n",
       "      <td>21865.5</td>\n",
       "      <td>513000.0</td>\n",
       "      <td>...</td>\n",
       "      <td>Cash through the bank</td>\n",
       "      <td>XAP</td>\n",
       "      <td>Repeater</td>\n",
       "      <td>XNA</td>\n",
       "      <td>Cash</td>\n",
       "      <td>x-sell</td>\n",
       "      <td>Country-wide</td>\n",
       "      <td>-1.0</td>\n",
       "      <td>Consumer electronics</td>\n",
       "      <td>high</td>\n",
       "    </tr>\n",
       "  </tbody>\n",
       "</table>\n",
       "<p>5 rows × 74 columns</p>\n",
       "</div>"
      ],
      "text/plain": [
       "            TARGET NAME_CONTRACT_TYPE_x CODE_GENDER FLAG_OWN_CAR  \\\n",
       "SK_ID_CURR                                                         \n",
       "100002           1           Cash loans           M            N   \n",
       "100003           0           Cash loans           F            N   \n",
       "100004           0      Revolving loans           M            Y   \n",
       "100006           0           Cash loans           F            N   \n",
       "100007           0           Cash loans           M            N   \n",
       "\n",
       "           FLAG_OWN_REALTY  CNT_CHILDREN  AMT_INCOME_TOTAL  AMT_CREDIT_x  \\\n",
       "SK_ID_CURR                                                                 \n",
       "100002                   Y             0          202500.0      406597.5   \n",
       "100003                   N             0          270000.0     1293502.5   \n",
       "100004                   Y             0           67500.0      135000.0   \n",
       "100006                   Y             0          135000.0      312682.5   \n",
       "100007                   Y             0          121500.0      513000.0   \n",
       "\n",
       "            AMT_ANNUITY_x  AMT_GOODS_PRICE_x        ...         \\\n",
       "SK_ID_CURR                                          ...          \n",
       "100002            24700.5           351000.0        ...          \n",
       "100003            35698.5          1129500.0        ...          \n",
       "100004             6750.0           135000.0        ...          \n",
       "100006            29686.5           297000.0        ...          \n",
       "100007            21865.5           513000.0        ...          \n",
       "\n",
       "                NAME_PAYMENT_TYPE CODE_REJECT_REASON NAME_CLIENT_TYPE  \\\n",
       "SK_ID_CURR                                                              \n",
       "100002                        XNA                XAP              New   \n",
       "100003      Cash through the bank                XAP        Refreshed   \n",
       "100004      Cash through the bank                XAP              New   \n",
       "100006                        XNA                XAP         Repeater   \n",
       "100007      Cash through the bank                XAP         Repeater   \n",
       "\n",
       "             NAME_GOODS_CATEGORY NAME_PORTFOLIO  NAME_PRODUCT_TYPE  \\\n",
       "SK_ID_CURR                                                           \n",
       "100002                  Vehicles            POS                XNA   \n",
       "100003      Consumer Electronics            POS                XNA   \n",
       "100004                    Mobile            POS                XNA   \n",
       "100006                       XNA           Cash                XNA   \n",
       "100007                       XNA           Cash             x-sell   \n",
       "\n",
       "                       CHANNEL_TYPE  SELLERPLACE_AREA  NAME_SELLER_INDUSTRY  \\\n",
       "SK_ID_CURR                                                                    \n",
       "100002                        Stone             500.0       Auto technology   \n",
       "100003                 Country-wide              -1.0  Consumer electronics   \n",
       "100004             Regional / Local              30.0          Connectivity   \n",
       "100006      Credit and cash offices              -1.0                   XNA   \n",
       "100007                 Country-wide              -1.0  Consumer electronics   \n",
       "\n",
       "            NAME_YIELD_GROUP  \n",
       "SK_ID_CURR                    \n",
       "100002            low_normal  \n",
       "100003                middle  \n",
       "100004                middle  \n",
       "100006                   XNA  \n",
       "100007                  high  \n",
       "\n",
       "[5 rows x 74 columns]"
      ]
     },
     "execution_count": 37,
     "metadata": {},
     "output_type": "execute_result"
    }
   ],
   "source": [
    "# Verisetinin okunması\n",
    "\n",
    "data = pd.read_csv(\"modelData.csv\")\n",
    "data.set_index('SK_ID_CURR',inplace=True)\n",
    "data.head()"
   ]
  },
  {
   "cell_type": "code",
   "execution_count": 38,
   "metadata": {
    "scrolled": true
   },
   "outputs": [
    {
     "name": "stdout",
     "output_type": "stream",
     "text": [
      "<class 'pandas.core.frame.DataFrame'>\n",
      "Int64Index: 307511 entries, 100002 to 456255\n",
      "Data columns (total 74 columns):\n",
      "TARGET                          307511 non-null int64\n",
      "NAME_CONTRACT_TYPE_x            307511 non-null object\n",
      "CODE_GENDER                     307511 non-null object\n",
      "FLAG_OWN_CAR                    307511 non-null object\n",
      "FLAG_OWN_REALTY                 307511 non-null object\n",
      "CNT_CHILDREN                    307511 non-null int64\n",
      "AMT_INCOME_TOTAL                307511 non-null float64\n",
      "AMT_CREDIT_x                    307511 non-null float64\n",
      "AMT_ANNUITY_x                   307511 non-null float64\n",
      "AMT_GOODS_PRICE_x               307511 non-null float64\n",
      "NAME_TYPE_SUITE_x               307511 non-null object\n",
      "NAME_INCOME_TYPE                307511 non-null object\n",
      "NAME_EDUCATION_TYPE             307511 non-null object\n",
      "NAME_FAMILY_STATUS              307511 non-null object\n",
      "NAME_HOUSING_TYPE               307511 non-null object\n",
      "REGION_POPULATION_RELATIVE      307511 non-null float64\n",
      "DAYS_BIRTH                      307511 non-null int64\n",
      "DAYS_EMPLOYED                   307511 non-null int64\n",
      "DAYS_REGISTRATION               307511 non-null float64\n",
      "DAYS_ID_PUBLISH                 307511 non-null int64\n",
      "FLAG_EMP_PHONE                  307511 non-null int64\n",
      "FLAG_WORK_PHONE                 307511 non-null int64\n",
      "FLAG_PHONE                      307511 non-null int64\n",
      "FLAG_EMAIL                      307511 non-null int64\n",
      "CNT_FAM_MEMBERS                 307511 non-null float64\n",
      "REGION_RATING_CLIENT            307511 non-null int64\n",
      "REGION_RATING_CLIENT_W_CITY     307511 non-null int64\n",
      "WEEKDAY_APPR_PROCESS_START_x    307511 non-null object\n",
      "HOUR_APPR_PROCESS_START_x       307511 non-null int64\n",
      "REG_CITY_NOT_LIVE_CITY          307511 non-null int64\n",
      "REG_CITY_NOT_WORK_CITY          307511 non-null int64\n",
      "LIVE_CITY_NOT_WORK_CITY         307511 non-null int64\n",
      "ORGANIZATION_TYPE               307511 non-null object\n",
      "EXT_SOURCE_2                    307511 non-null float64\n",
      "EXT_SOURCE_3                    307511 non-null float64\n",
      "OBS_30_CNT_SOCIAL_CIRCLE        307511 non-null float64\n",
      "DEF_30_CNT_SOCIAL_CIRCLE        307511 non-null float64\n",
      "OBS_60_CNT_SOCIAL_CIRCLE        307511 non-null float64\n",
      "DEF_60_CNT_SOCIAL_CIRCLE        307511 non-null float64\n",
      "DAYS_LAST_PHONE_CHANGE          307511 non-null float64\n",
      "FLAG_DOCUMENT_3                 307511 non-null int64\n",
      "FLAG_DOCUMENT_6                 307511 non-null int64\n",
      "FLAG_DOCUMENT_8                 307511 non-null int64\n",
      "AMT_REQ_CREDIT_BUREAU_WEEK      307511 non-null float64\n",
      "AMT_REQ_CREDIT_BUREAU_MON       307511 non-null float64\n",
      "AMT_REQ_CREDIT_BUREAU_QRT       307511 non-null float64\n",
      "AMT_REQ_CREDIT_BUREAU_YEAR      307511 non-null float64\n",
      "SK_ID_BUREAU                    307511 non-null float64\n",
      "CREDIT_ACTIVE                   307511 non-null object\n",
      "DAYS_CREDIT                     307511 non-null float64\n",
      "DAYS_CREDIT_ENDDATE             307511 non-null float64\n",
      "AMT_CREDIT_SUM                  307511 non-null float64\n",
      "AMT_CREDIT_SUM_DEBT             307511 non-null float64\n",
      "CREDIT_TYPE                     307511 non-null object\n",
      "DAYS_CREDIT_UPDATE              307511 non-null float64\n",
      "SK_ID_PREV                      307511 non-null float64\n",
      "NAME_CONTRACT_TYPE_y            307511 non-null object\n",
      "AMT_APPLICATION                 307511 non-null float64\n",
      "AMT_CREDIT_y                    307511 non-null float64\n",
      "WEEKDAY_APPR_PROCESS_START_y    307511 non-null object\n",
      "HOUR_APPR_PROCESS_START_y       307511 non-null float64\n",
      "NAME_CASH_LOAN_PURPOSE          307511 non-null object\n",
      "NAME_CONTRACT_STATUS            307511 non-null object\n",
      "DAYS_DECISION                   307511 non-null float64\n",
      "NAME_PAYMENT_TYPE               307511 non-null object\n",
      "CODE_REJECT_REASON              307511 non-null object\n",
      "NAME_CLIENT_TYPE                307511 non-null object\n",
      "NAME_GOODS_CATEGORY             307511 non-null object\n",
      "NAME_PORTFOLIO                  307511 non-null object\n",
      "NAME_PRODUCT_TYPE               307511 non-null object\n",
      "CHANNEL_TYPE                    307511 non-null object\n",
      "SELLERPLACE_AREA                307511 non-null float64\n",
      "NAME_SELLER_INDUSTRY            307511 non-null object\n",
      "NAME_YIELD_GROUP                307511 non-null object\n",
      "dtypes: float64(30), int64(18), object(26)\n",
      "memory usage: 176.0+ MB\n"
     ]
    }
   ],
   "source": [
    "#Verisetinin Açıklamaları\n",
    "\n",
    "data.info()"
   ]
  },
  {
   "cell_type": "code",
   "execution_count": 39,
   "metadata": {},
   "outputs": [
    {
     "data": {
      "text/plain": [
       "0    282686\n",
       "1     24825\n",
       "Name: TARGET, dtype: int64"
      ]
     },
     "execution_count": 39,
     "metadata": {},
     "output_type": "execute_result"
    }
   ],
   "source": [
    "# Hedef Değişken Dağılımının Kontrol Edilmesi\n",
    "\n",
    "data.TARGET.value_counts()"
   ]
  },
  {
   "cell_type": "code",
   "execution_count": 40,
   "metadata": {},
   "outputs": [],
   "source": [
    "# Bu kısımda kategorik ve numerik verileri belirleyip, kategorik verileri,\n",
    "#modellemeye uygun hale getirmek için numerik hale getiriyoruz.\n",
    "def KorS(y):\n",
    "    types = []\n",
    "    for i in y:\n",
    "        if type(data[i].values[0]) == str:\n",
    "            types.append((i,\"Categorical\"))\n",
    "        else:\n",
    "            types.append((i,\"Continous\"))\n",
    "    return types\n",
    "\n",
    "tip =  pd.DataFrame(KorS(data.columns));tip.columns=[\"features\",\"tip\"];tip.set_index(\"features\",inplace=True)\n",
    "for i in tip[tip.tip == \"Categorical\"].index:\n",
    "    data[i] = data[i].astype('category').cat.codes.astype(np.int64)"
   ]
  },
  {
   "cell_type": "markdown",
   "metadata": {},
   "source": [
    "# Under-Sampling\n",
    "\n",
    "Verisetimizde **24825 Fraud** ve **282686 Nan-Fraud** Olduğu için modellemeyi daha sağlıklı yapmak adına, Over veya Under Sampling yapmamız gerekiyor. Biz bu çalışmada Random Under Sampling yapacağız. \n",
    "\n",
    "![](img/under.png)"
   ]
  },
  {
   "cell_type": "code",
   "execution_count": 41,
   "metadata": {},
   "outputs": [
    {
     "name": "stdout",
     "output_type": "stream",
     "text": [
      "Data'nın Bölünmeden Önceki Boyutu 307511\n",
      "Data'nın Yeni Boyutu:  74475\n"
     ]
    }
   ],
   "source": [
    "print(\"Data'nın Bölünmeden Önceki Boyutu\", len(data))\n",
    "dataFraud = data[data.TARGET == 1]\n",
    "dataNonFraud = data[data.TARGET == 0]\n",
    "data = pd.concat([dataNonFraud.sample(len(dataFraud)*2, random_state=5,replace=True), dataFraud])\n",
    "print(\"Data'nın Yeni Boyutu: \", len(data))"
   ]
  },
  {
   "cell_type": "code",
   "execution_count": 42,
   "metadata": {},
   "outputs": [],
   "source": [
    "X = data.iloc[:, data.columns != 'TARGET'].values\n",
    "y = data.TARGET.values"
   ]
  },
  {
   "cell_type": "markdown",
   "metadata": {},
   "source": [
    "# Değişken Seçimi\n",
    "\n",
    "Bu çalışmada değişken seçimi için Boruta adlı algoritma kullanılmıştır. \n",
    "\n",
    "### Kaynaklar\n",
    "\n",
    "- [Boruta – A System for Feature Selection](https://pdfs.semanticscholar.org/85a8/b1d9c52f9f795fda7e12376e751526953f38.pdf)\n",
    "- [Feature Selection with the Boruta Package](https://www.jstatsoft.org/article/view/v036i11/v36i11.pdf)"
   ]
  },
  {
   "cell_type": "code",
   "execution_count": 24,
   "metadata": {},
   "outputs": [
    {
     "name": "stdout",
     "output_type": "stream",
     "text": [
      "Iteration: \t1 / 100\n",
      "Confirmed: \t0\n",
      "Tentative: \t73\n",
      "Rejected: \t0\n",
      "Iteration: \t2 / 100\n",
      "Confirmed: \t0\n",
      "Tentative: \t73\n",
      "Rejected: \t0\n",
      "Iteration: \t3 / 100\n",
      "Confirmed: \t0\n",
      "Tentative: \t73\n",
      "Rejected: \t0\n",
      "Iteration: \t4 / 100\n",
      "Confirmed: \t0\n",
      "Tentative: \t73\n",
      "Rejected: \t0\n",
      "Iteration: \t5 / 100\n",
      "Confirmed: \t0\n",
      "Tentative: \t73\n",
      "Rejected: \t0\n",
      "Iteration: \t6 / 100\n",
      "Confirmed: \t0\n",
      "Tentative: \t73\n",
      "Rejected: \t0\n",
      "Iteration: \t7 / 100\n",
      "Confirmed: \t0\n",
      "Tentative: \t73\n",
      "Rejected: \t0\n",
      "Iteration: \t8 / 100\n",
      "Confirmed: \t13\n",
      "Tentative: \t1\n",
      "Rejected: \t59\n"
     ]
    },
    {
     "name": "stderr",
     "output_type": "stream",
     "text": [
      "D:\\Anaconda\\lib\\site-packages\\boruta\\boruta_py.py:418: RuntimeWarning: invalid value encountered in greater\n",
      "  hits = np.where(cur_imp[0] > imp_sha_max)[0]\n"
     ]
    },
    {
     "name": "stdout",
     "output_type": "stream",
     "text": [
      "Iteration: \t9 / 100\n",
      "Confirmed: \t13\n",
      "Tentative: \t1\n",
      "Rejected: \t59\n"
     ]
    },
    {
     "name": "stderr",
     "output_type": "stream",
     "text": [
      "D:\\Anaconda\\lib\\site-packages\\boruta\\boruta_py.py:418: RuntimeWarning: invalid value encountered in greater\n",
      "  hits = np.where(cur_imp[0] > imp_sha_max)[0]\n"
     ]
    },
    {
     "name": "stdout",
     "output_type": "stream",
     "text": [
      "Iteration: \t10 / 100\n",
      "Confirmed: \t13\n",
      "Tentative: \t1\n",
      "Rejected: \t59\n"
     ]
    },
    {
     "name": "stderr",
     "output_type": "stream",
     "text": [
      "D:\\Anaconda\\lib\\site-packages\\boruta\\boruta_py.py:418: RuntimeWarning: invalid value encountered in greater\n",
      "  hits = np.where(cur_imp[0] > imp_sha_max)[0]\n"
     ]
    },
    {
     "name": "stdout",
     "output_type": "stream",
     "text": [
      "Iteration: \t11 / 100\n",
      "Confirmed: \t13\n",
      "Tentative: \t1\n",
      "Rejected: \t59\n"
     ]
    },
    {
     "name": "stderr",
     "output_type": "stream",
     "text": [
      "D:\\Anaconda\\lib\\site-packages\\boruta\\boruta_py.py:418: RuntimeWarning: invalid value encountered in greater\n",
      "  hits = np.where(cur_imp[0] > imp_sha_max)[0]\n"
     ]
    },
    {
     "name": "stdout",
     "output_type": "stream",
     "text": [
      "Iteration: \t12 / 100\n",
      "Confirmed: \t13\n",
      "Tentative: \t1\n",
      "Rejected: \t59\n"
     ]
    },
    {
     "name": "stderr",
     "output_type": "stream",
     "text": [
      "D:\\Anaconda\\lib\\site-packages\\boruta\\boruta_py.py:418: RuntimeWarning: invalid value encountered in greater\n",
      "  hits = np.where(cur_imp[0] > imp_sha_max)[0]\n"
     ]
    },
    {
     "name": "stdout",
     "output_type": "stream",
     "text": [
      "Iteration: \t13 / 100\n",
      "Confirmed: \t13\n",
      "Tentative: \t1\n",
      "Rejected: \t59\n"
     ]
    },
    {
     "name": "stderr",
     "output_type": "stream",
     "text": [
      "D:\\Anaconda\\lib\\site-packages\\boruta\\boruta_py.py:418: RuntimeWarning: invalid value encountered in greater\n",
      "  hits = np.where(cur_imp[0] > imp_sha_max)[0]\n"
     ]
    },
    {
     "name": "stdout",
     "output_type": "stream",
     "text": [
      "Iteration: \t14 / 100\n",
      "Confirmed: \t13\n",
      "Tentative: \t1\n",
      "Rejected: \t59\n"
     ]
    },
    {
     "name": "stderr",
     "output_type": "stream",
     "text": [
      "D:\\Anaconda\\lib\\site-packages\\boruta\\boruta_py.py:418: RuntimeWarning: invalid value encountered in greater\n",
      "  hits = np.where(cur_imp[0] > imp_sha_max)[0]\n"
     ]
    },
    {
     "name": "stdout",
     "output_type": "stream",
     "text": [
      "Iteration: \t15 / 100\n",
      "Confirmed: \t13\n",
      "Tentative: \t1\n",
      "Rejected: \t59\n"
     ]
    },
    {
     "name": "stderr",
     "output_type": "stream",
     "text": [
      "D:\\Anaconda\\lib\\site-packages\\boruta\\boruta_py.py:418: RuntimeWarning: invalid value encountered in greater\n",
      "  hits = np.where(cur_imp[0] > imp_sha_max)[0]\n"
     ]
    },
    {
     "name": "stdout",
     "output_type": "stream",
     "text": [
      "Iteration: \t16 / 100\n",
      "Confirmed: \t13\n",
      "Tentative: \t1\n",
      "Rejected: \t59\n"
     ]
    },
    {
     "name": "stderr",
     "output_type": "stream",
     "text": [
      "D:\\Anaconda\\lib\\site-packages\\boruta\\boruta_py.py:418: RuntimeWarning: invalid value encountered in greater\n",
      "  hits = np.where(cur_imp[0] > imp_sha_max)[0]\n"
     ]
    },
    {
     "name": "stdout",
     "output_type": "stream",
     "text": [
      "Iteration: \t17 / 100\n",
      "Confirmed: \t13\n",
      "Tentative: \t1\n",
      "Rejected: \t59\n"
     ]
    },
    {
     "name": "stderr",
     "output_type": "stream",
     "text": [
      "D:\\Anaconda\\lib\\site-packages\\boruta\\boruta_py.py:418: RuntimeWarning: invalid value encountered in greater\n",
      "  hits = np.where(cur_imp[0] > imp_sha_max)[0]\n"
     ]
    },
    {
     "name": "stdout",
     "output_type": "stream",
     "text": [
      "Iteration: \t18 / 100\n",
      "Confirmed: \t13\n",
      "Tentative: \t1\n",
      "Rejected: \t59\n"
     ]
    },
    {
     "name": "stderr",
     "output_type": "stream",
     "text": [
      "D:\\Anaconda\\lib\\site-packages\\boruta\\boruta_py.py:418: RuntimeWarning: invalid value encountered in greater\n",
      "  hits = np.where(cur_imp[0] > imp_sha_max)[0]\n"
     ]
    },
    {
     "name": "stdout",
     "output_type": "stream",
     "text": [
      "Iteration: \t19 / 100\n",
      "Confirmed: \t13\n",
      "Tentative: \t1\n",
      "Rejected: \t59\n"
     ]
    },
    {
     "name": "stderr",
     "output_type": "stream",
     "text": [
      "D:\\Anaconda\\lib\\site-packages\\boruta\\boruta_py.py:418: RuntimeWarning: invalid value encountered in greater\n",
      "  hits = np.where(cur_imp[0] > imp_sha_max)[0]\n"
     ]
    },
    {
     "name": "stdout",
     "output_type": "stream",
     "text": [
      "Iteration: \t20 / 100\n",
      "Confirmed: \t13\n",
      "Tentative: \t1\n",
      "Rejected: \t59\n"
     ]
    },
    {
     "name": "stderr",
     "output_type": "stream",
     "text": [
      "D:\\Anaconda\\lib\\site-packages\\boruta\\boruta_py.py:418: RuntimeWarning: invalid value encountered in greater\n",
      "  hits = np.where(cur_imp[0] > imp_sha_max)[0]\n"
     ]
    },
    {
     "name": "stdout",
     "output_type": "stream",
     "text": [
      "Iteration: \t21 / 100\n",
      "Confirmed: \t13\n",
      "Tentative: \t1\n",
      "Rejected: \t59\n"
     ]
    },
    {
     "name": "stderr",
     "output_type": "stream",
     "text": [
      "D:\\Anaconda\\lib\\site-packages\\boruta\\boruta_py.py:418: RuntimeWarning: invalid value encountered in greater\n",
      "  hits = np.where(cur_imp[0] > imp_sha_max)[0]\n"
     ]
    },
    {
     "name": "stdout",
     "output_type": "stream",
     "text": [
      "Iteration: \t22 / 100\n",
      "Confirmed: \t13\n",
      "Tentative: \t1\n",
      "Rejected: \t59\n"
     ]
    },
    {
     "name": "stderr",
     "output_type": "stream",
     "text": [
      "D:\\Anaconda\\lib\\site-packages\\boruta\\boruta_py.py:418: RuntimeWarning: invalid value encountered in greater\n",
      "  hits = np.where(cur_imp[0] > imp_sha_max)[0]\n"
     ]
    },
    {
     "name": "stdout",
     "output_type": "stream",
     "text": [
      "Iteration: \t23 / 100\n",
      "Confirmed: \t13\n",
      "Tentative: \t1\n",
      "Rejected: \t59\n"
     ]
    },
    {
     "name": "stderr",
     "output_type": "stream",
     "text": [
      "D:\\Anaconda\\lib\\site-packages\\boruta\\boruta_py.py:418: RuntimeWarning: invalid value encountered in greater\n",
      "  hits = np.where(cur_imp[0] > imp_sha_max)[0]\n"
     ]
    },
    {
     "name": "stdout",
     "output_type": "stream",
     "text": [
      "Iteration: \t24 / 100\n",
      "Confirmed: \t13\n",
      "Tentative: \t1\n",
      "Rejected: \t59\n"
     ]
    },
    {
     "name": "stderr",
     "output_type": "stream",
     "text": [
      "D:\\Anaconda\\lib\\site-packages\\boruta\\boruta_py.py:418: RuntimeWarning: invalid value encountered in greater\n",
      "  hits = np.where(cur_imp[0] > imp_sha_max)[0]\n"
     ]
    },
    {
     "name": "stdout",
     "output_type": "stream",
     "text": [
      "Iteration: \t25 / 100\n",
      "Confirmed: \t13\n",
      "Tentative: \t1\n",
      "Rejected: \t59\n",
      "Iteration: \t26 / 100\n",
      "Confirmed: \t13\n",
      "Tentative: \t0\n",
      "Rejected: \t60\n",
      "\n",
      "\n",
      "BorutaPy finished running.\n",
      "\n",
      "Iteration: \t27 / 100\n",
      "Confirmed: \t13\n",
      "Tentative: \t0\n",
      "Rejected: \t60\n"
     ]
    },
    {
     "name": "stderr",
     "output_type": "stream",
     "text": [
      "D:\\Anaconda\\lib\\site-packages\\boruta\\boruta_py.py:418: RuntimeWarning: invalid value encountered in greater\n",
      "  hits = np.where(cur_imp[0] > imp_sha_max)[0]\n"
     ]
    },
    {
     "data": {
      "text/plain": [
       "BorutaPy(alpha=0.05,\n",
       "     estimator=RandomForestClassifier(bootstrap=True, class_weight='balanced',\n",
       "            criterion='gini', max_depth=None, max_features='auto',\n",
       "            max_leaf_nodes=None, min_impurity_decrease=0.0,\n",
       "            min_impurity_split=None, min_samples_leaf=1,\n",
       "            min_samples_split=2, min_weight_fraction_leaf=0.0,\n",
       "            n_estimators=52, n_jobs=-1, oob_score=False,\n",
       "            random_state=<mtrand.RandomState object at 0x000001A45DFC6480>,\n",
       "            verbose=0, warm_start=False),\n",
       "     max_iter=100, n_estimators='auto', perc=100,\n",
       "     random_state=<mtrand.RandomState object at 0x000001A45DFC6480>,\n",
       "     two_step=True, verbose=2)"
      ]
     },
     "execution_count": 24,
     "metadata": {},
     "output_type": "execute_result"
    }
   ],
   "source": [
    "rfc = RandomForestClassifier(n_estimators=135, n_jobs=-1, class_weight=\"balanced\")\n",
    "boruta_selector = BorutaPy(rfc, n_estimators='auto', verbose=2)\n",
    "boruta_selector.fit(X,y)"
   ]
  },
  {
   "cell_type": "code",
   "execution_count": 43,
   "metadata": {},
   "outputs": [
    {
     "name": "stdout",
     "output_type": "stream",
     "text": [
      "\n",
      " Top 13 features:\n",
      "                  features  rank\n",
      "0            DAYS_EMPLOYED     1\n",
      "1             EXT_SOURCE_3     1\n",
      "2   DAYS_LAST_PHONE_CHANGE     1\n",
      "3              DAYS_CREDIT     1\n",
      "4       DAYS_CREDIT_UPDATE     1\n",
      "5          DAYS_ID_PUBLISH     1\n",
      "6        DAYS_REGISTRATION     1\n",
      "7               DAYS_BIRTH     1\n",
      "8             EXT_SOURCE_2     1\n",
      "9             AMT_CREDIT_x     1\n",
      "10           DAYS_DECISION     1\n",
      "11       AMT_GOODS_PRICE_x     1\n",
      "12           AMT_ANNUITY_x     1\n"
     ]
    }
   ],
   "source": [
    "feature_df = pd.DataFrame(data.drop(['TARGET'], axis=1).columns.tolist(), columns=['features'])\n",
    "feature_df['rank']=boruta_selector.ranking_\n",
    "feature_df = feature_df.sort_values('rank', ascending=True).reset_index(drop=True)\n",
    "print ('\\n Top %d features:' % boruta_selector.n_features_)\n",
    "print (feature_df.head(boruta_selector.n_features_))"
   ]
  },
  {
   "cell_type": "code",
   "execution_count": 44,
   "metadata": {},
   "outputs": [
    {
     "data": {
      "text/plain": [
       "array(['DAYS_EMPLOYED', 'EXT_SOURCE_3', 'DAYS_LAST_PHONE_CHANGE',\n",
       "       'DAYS_CREDIT', 'DAYS_CREDIT_UPDATE', 'DAYS_ID_PUBLISH',\n",
       "       'DAYS_REGISTRATION', 'DAYS_BIRTH', 'EXT_SOURCE_2', 'AMT_CREDIT_x',\n",
       "       'DAYS_DECISION', 'AMT_GOODS_PRICE_x', 'AMT_ANNUITY_x'],\n",
       "      dtype=object)"
      ]
     },
     "execution_count": 44,
     "metadata": {},
     "output_type": "execute_result"
    }
   ],
   "source": [
    "pd.DataFrame(feature_df.head(boruta_selector.n_features_).values)[0].values"
   ]
  },
  {
   "cell_type": "code",
   "execution_count": 93,
   "metadata": {},
   "outputs": [],
   "source": [
    "data = data[['EXT_SOURCE_3', 'DAYS_LAST_PHONE_CHANGE',\n",
    "       'DAYS_CREDIT','EXT_SOURCE_2', 'AMT_CREDIT_x','AMT_ANNUITY_x','TARGET']]\n",
    "\n",
    "# Not: Seçtikleri üzerinden bazı değişkenleri kaldırdım. "
   ]
  },
  {
   "cell_type": "code",
   "execution_count": 110,
   "metadata": {},
   "outputs": [
    {
     "data": {
      "text/html": [
       "<div>\n",
       "<style scoped>\n",
       "    .dataframe tbody tr th:only-of-type {\n",
       "        vertical-align: middle;\n",
       "    }\n",
       "\n",
       "    .dataframe tbody tr th {\n",
       "        vertical-align: top;\n",
       "    }\n",
       "\n",
       "    .dataframe thead th {\n",
       "        text-align: right;\n",
       "    }\n",
       "</style>\n",
       "<table border=\"1\" class=\"dataframe\">\n",
       "  <thead>\n",
       "    <tr style=\"text-align: right;\">\n",
       "      <th></th>\n",
       "      <th>EXT_SOURCE_3</th>\n",
       "      <th>DAYS_LAST_PHONE_CHANGE</th>\n",
       "      <th>DAYS_CREDIT</th>\n",
       "      <th>EXT_SOURCE_2</th>\n",
       "      <th>AMT_CREDIT_x</th>\n",
       "      <th>AMT_ANNUITY_x</th>\n",
       "      <th>TARGET</th>\n",
       "    </tr>\n",
       "    <tr>\n",
       "      <th>SK_ID_CURR</th>\n",
       "      <th></th>\n",
       "      <th></th>\n",
       "      <th></th>\n",
       "      <th></th>\n",
       "      <th></th>\n",
       "      <th></th>\n",
       "      <th></th>\n",
       "    </tr>\n",
       "  </thead>\n",
       "  <tbody>\n",
       "    <tr>\n",
       "      <th>123614</th>\n",
       "      <td>0.000000</td>\n",
       "      <td>1746.0</td>\n",
       "      <td>0.0</td>\n",
       "      <td>0.315294</td>\n",
       "      <td>630000.0</td>\n",
       "      <td>31500.0</td>\n",
       "      <td>0</td>\n",
       "    </tr>\n",
       "    <tr>\n",
       "      <th>125883</th>\n",
       "      <td>0.703203</td>\n",
       "      <td>0.0</td>\n",
       "      <td>2345.0</td>\n",
       "      <td>0.233106</td>\n",
       "      <td>994500.0</td>\n",
       "      <td>32211.0</td>\n",
       "      <td>0</td>\n",
       "    </tr>\n",
       "    <tr>\n",
       "      <th>257333</th>\n",
       "      <td>0.191822</td>\n",
       "      <td>1809.0</td>\n",
       "      <td>259.0</td>\n",
       "      <td>0.768554</td>\n",
       "      <td>560664.0</td>\n",
       "      <td>18085.5</td>\n",
       "      <td>0</td>\n",
       "    </tr>\n",
       "    <tr>\n",
       "      <th>392683</th>\n",
       "      <td>0.591977</td>\n",
       "      <td>622.0</td>\n",
       "      <td>1564.0</td>\n",
       "      <td>0.557321</td>\n",
       "      <td>225000.0</td>\n",
       "      <td>23755.5</td>\n",
       "      <td>0</td>\n",
       "    </tr>\n",
       "    <tr>\n",
       "      <th>272454</th>\n",
       "      <td>0.000000</td>\n",
       "      <td>686.0</td>\n",
       "      <td>0.0</td>\n",
       "      <td>0.336269</td>\n",
       "      <td>180000.0</td>\n",
       "      <td>9000.0</td>\n",
       "      <td>0</td>\n",
       "    </tr>\n",
       "  </tbody>\n",
       "</table>\n",
       "</div>"
      ],
      "text/plain": [
       "            EXT_SOURCE_3  DAYS_LAST_PHONE_CHANGE  DAYS_CREDIT  EXT_SOURCE_2  \\\n",
       "SK_ID_CURR                                                                    \n",
       "123614          0.000000                  1746.0          0.0      0.315294   \n",
       "125883          0.703203                     0.0       2345.0      0.233106   \n",
       "257333          0.191822                  1809.0        259.0      0.768554   \n",
       "392683          0.591977                   622.0       1564.0      0.557321   \n",
       "272454          0.000000                   686.0          0.0      0.336269   \n",
       "\n",
       "            AMT_CREDIT_x  AMT_ANNUITY_x  TARGET  \n",
       "SK_ID_CURR                                       \n",
       "123614          630000.0        31500.0       0  \n",
       "125883          994500.0        32211.0       0  \n",
       "257333          560664.0        18085.5       0  \n",
       "392683          225000.0        23755.5       0  \n",
       "272454          180000.0         9000.0       0  "
      ]
     },
     "execution_count": 110,
     "metadata": {},
     "output_type": "execute_result"
    }
   ],
   "source": [
    "data.head()"
   ]
  },
  {
   "cell_type": "markdown",
   "metadata": {},
   "source": [
    "Değişken seçimini gerçekleştirdikten sonra modelleme için hazırız. Son olarak değişkenler arası korelasyon katsayısına bakacağız."
   ]
  },
  {
   "cell_type": "code",
   "execution_count": 111,
   "metadata": {},
   "outputs": [
    {
     "data": {
      "image/png": "[encoded data removed]",
      "text/plain": [
       "<matplotlib.figure.Figure at 0x1a43e267128>"
      ]
     },
     "metadata": {},
     "output_type": "display_data"
    }
   ],
   "source": [
    "corr = data.corr()\n",
    "\n",
    "# Generate a mask for the upper triangle\n",
    "mask = np.zeros_like(corr, dtype=np.bool)\n",
    "mask[np.triu_indices_from(mask)] = True\n",
    "\n",
    "# Set up the matplotlib figure\n",
    "f, ax = plt.subplots(figsize=(15, 15))\n",
    "\n",
    "# Generate a custom diverging colormap\n",
    "cmap = sns.diverging_palette(900, 100, as_cmap=True)\n",
    "\n",
    "# Draw the heatmap with the mask and correct aspect ratio\n",
    "sns.heatmap(corr, annot=True, mask=mask, cmap=cmap, vmax=.3, center=0,\n",
    "            square=True, linewidths=.5, cbar_kws={\"shrink\": .5},annot_kws={'size': 12})\n",
    "plt.savefig('corr.png')"
   ]
  },
  {
   "cell_type": "markdown",
   "metadata": {},
   "source": [
    "# Modelleme\n",
    "\n",
    "Modelleme için Deniz Kılınç'ın yazdığı [Makine Öğrenimi ve Derin Öğrenme ile Müşteri Kayıp (Churn) Analizi-1](https://medium.com/deep-learning-turkiye/makine-%C3%B6%C4%9Frenimi-ve-derin-%C3%B6%C4%9Frenme-ile-m%C3%BC%C5%9Fteri-kay%C4%B1p-churn-analizi-1-63a4513b8a6f) makalesinde kodunu biraz geliştirip elde ettiğimiz bütün modellerin detaylı sonuçlarının ortaya çıkarıldığı bir yapı ile ilk testlerimizi yapacağız. Ardından en iyi modellerden birini seçip, parametre optimizasyonu yaparak son modelimizi elde edeceğiz"
   ]
  },
  {
   "cell_type": "code",
   "execution_count": 112,
   "metadata": {},
   "outputs": [],
   "source": [
    "X = data.iloc[:, data.columns != 'TARGET']\n",
    "y = data.TARGET\n",
    "\n",
    "X_train, X_test, y_train, y_test = train_test_split(X, y, test_size = 0.30, random_state = 25)"
   ]
  },
  {
   "cell_type": "code",
   "execution_count": 113,
   "metadata": {
    "scrolled": false
   },
   "outputs": [
    {
     "name": "stderr",
     "output_type": "stream",
     "text": [
      "D:\\Anaconda\\lib\\site-packages\\sklearn\\linear_model\\logistic.py:432: FutureWarning: Default solver will be changed to 'lbfgs' in 0.22. Specify a solver to silence this warning.\n",
      "  FutureWarning)\n",
      "D:\\Anaconda\\lib\\site-packages\\sklearn\\metrics\\classification.py:1143: UndefinedMetricWarning: Precision and F-score are ill-defined and being set to 0.0 in labels with no predicted samples.\n",
      "  'precision', 'predicted', average, warn_for)\n",
      "D:\\Anaconda\\lib\\site-packages\\sklearn\\metrics\\classification.py:1143: UndefinedMetricWarning: Precision and F-score are ill-defined and being set to 0.0 in labels with no predicted samples.\n",
      "  'precision', 'predicted', average, warn_for)\n",
      "D:\\Anaconda\\lib\\site-packages\\sklearn\\metrics\\classification.py:1143: UndefinedMetricWarning: Precision and F-score are ill-defined and being set to 0.0 in labels with no predicted samples.\n",
      "  'precision', 'predicted', average, warn_for)\n"
     ]
    },
    {
     "name": "stdout",
     "output_type": "stream",
     "text": [
      "-----------------------Logistic Regression------------------\n",
      "              precision    recall  f1-score   support\n",
      "\n",
      "           0       0.67      1.00      0.80     14883\n",
      "           1       0.00      0.00      0.00      7460\n",
      "\n",
      "   micro avg       0.67      0.67      0.67     22343\n",
      "   macro avg       0.33      0.50      0.40     22343\n",
      "weighted avg       0.44      0.67      0.53     22343\n",
      "\n",
      "Test Score:  0.6661146667860179\n",
      "Train Score:  0.6669032456073045\n",
      "-----------------------Naive Bayes------------------\n",
      "              precision    recall  f1-score   support\n",
      "\n",
      "           0       0.69      0.92      0.78     14883\n",
      "           1       0.49      0.16      0.24      7460\n",
      "\n",
      "   micro avg       0.66      0.66      0.66     22343\n",
      "   macro avg       0.59      0.54      0.51     22343\n",
      "weighted avg       0.62      0.66      0.60     22343\n",
      "\n",
      "Test Score:  0.6640558564203554\n",
      "Train Score:  0.6631627407350572\n",
      "-----------------------Decision Tree (CART)------------------\n",
      "              precision    recall  f1-score   support\n",
      "\n",
      "           0       0.72      0.73      0.73     14883\n",
      "           1       0.45      0.44      0.45      7460\n",
      "\n",
      "   micro avg       0.64      0.64      0.64     22343\n",
      "   macro avg       0.59      0.59      0.59     22343\n",
      "weighted avg       0.63      0.64      0.63     22343\n",
      "\n",
      "Test Score:  0.6350087275656805\n",
      "Train Score:  1.0\n",
      "-----------------------K-NN------------------\n",
      "              precision    recall  f1-score   support\n",
      "\n",
      "           0       0.71      0.80      0.75     14883\n",
      "           1       0.46      0.34      0.39      7460\n",
      "\n",
      "   micro avg       0.65      0.65      0.65     22343\n",
      "   macro avg       0.59      0.57      0.57     22343\n",
      "weighted avg       0.63      0.65      0.63     22343\n",
      "\n",
      "Test Score:  0.6481224544600098\n",
      "Train Score:  0.7584209314816236\n",
      "-----------------------AdaBoostClassifier------------------\n",
      "              precision    recall  f1-score   support\n",
      "\n",
      "           0       0.73      0.89      0.80     14883\n",
      "           1       0.61      0.34      0.44      7460\n",
      "\n",
      "   micro avg       0.71      0.71      0.71     22343\n",
      "   macro avg       0.67      0.62      0.62     22343\n",
      "weighted avg       0.69      0.71      0.68     22343\n",
      "\n",
      "Test Score:  0.7073803875934297\n",
      "Train Score:  0.7102739200491062\n"
     ]
    },
    {
     "name": "stderr",
     "output_type": "stream",
     "text": [
      "D:\\Anaconda\\lib\\site-packages\\sklearn\\ensemble\\forest.py:248: FutureWarning: The default value of n_estimators will change from 10 in version 0.20 to 100 in 0.22.\n",
      "  \"10 in version 0.20 to 100 in 0.22.\", FutureWarning)\n"
     ]
    },
    {
     "name": "stdout",
     "output_type": "stream",
     "text": [
      "-----------------------RandomForestClassifier------------------\n",
      "              precision    recall  f1-score   support\n",
      "\n",
      "           0       0.72      0.88      0.79     14883\n",
      "           1       0.58      0.33      0.42      7460\n",
      "\n",
      "   micro avg       0.70      0.70      0.70     22343\n",
      "   macro avg       0.65      0.60      0.61     22343\n",
      "weighted avg       0.68      0.70      0.67     22343\n",
      "\n",
      "Test Score:  0.6963254710647631\n",
      "Train Score:  0.9779597943681424\n"
     ]
    }
   ],
   "source": [
    "#Deniz Kılınç\n",
    "\n",
    "from sklearn.naive_bayes import GaussianNB\n",
    "from sklearn.linear_model import LogisticRegression\n",
    "from sklearn.neighbors import KNeighborsClassifier\n",
    "from sklearn.svm import SVC\n",
    "from sklearn.tree import DecisionTreeClassifier\n",
    "from sklearn.discriminant_analysis import LinearDiscriminantAnalysis\n",
    "from sklearn.ensemble import RandomForestClassifier, AdaBoostClassifier, BaggingClassifier, GradientBoostingClassifier\n",
    "from sklearn.neural_network import MLPClassifier\n",
    "\n",
    "models = []\n",
    "models.append(('Logistic Regression', LogisticRegression()))\n",
    "models.append(('Naive Bayes', GaussianNB()))\n",
    "models.append(('Decision Tree (CART)',DecisionTreeClassifier())) \n",
    "models.append(('K-NN', KNeighborsClassifier()))\n",
    "models.append(('AdaBoostClassifier', AdaBoostClassifier()))\n",
    "models.append(('RandomForestClassifier', RandomForestClassifier()))\n",
    "\n",
    "for name, model in models:\n",
    "    model = model.fit(X_train, y_train)\n",
    "    y_pred = model.predict(X_test)\n",
    "    print(\"-----------------------\"+str(name)+\"------------------\")\n",
    "    print(classification_report(y_test,y_pred))\n",
    "    print(\"Test Score: \",accuracy_score(y_test,y_pred))\n",
    "    print(\"Train Score: \",model.score(X_train,y_train))"
   ]
  },
  {
   "cell_type": "markdown",
   "metadata": {},
   "source": [
    "# Son Model\n",
    "\n",
    "AdaBoostClassifier diğerlerine göre daha iyi çıktığı için onda parametre optimizasyonunu yaptık ve artık modelleme aşaması bitti."
   ]
  },
  {
   "cell_type": "code",
   "execution_count": 114,
   "metadata": {},
   "outputs": [
    {
     "name": "stdout",
     "output_type": "stream",
     "text": [
      "              precision    recall  f1-score   support\n",
      "\n",
      "           0       0.73      0.90      0.80     14883\n",
      "           1       0.62      0.33      0.43      7460\n",
      "\n",
      "   micro avg       0.71      0.71      0.71     22343\n",
      "   macro avg       0.67      0.62      0.62     22343\n",
      "weighted avg       0.69      0.71      0.68     22343\n",
      "\n",
      "Test Score:  0.7089021169941369\n",
      "Train Score:  0.7126524975063301\n"
     ]
    }
   ],
   "source": [
    "model = AdaBoostClassifier(n_estimators=137, random_state=51)\n",
    "model = model.fit(X_train, y_train)\n",
    "y_pred = model.predict(X_test)\n",
    "cm = confusion_matrix(y_test, y_pred) \n",
    "print(classification_report(y_test,y_pred))\n",
    "print(\"Test Score: \",accuracy_score(y_test,y_pred))\n",
    "print(\"Train Score: \",model.score(X_train,y_train))"
   ]
  },
  {
   "cell_type": "markdown",
   "metadata": {},
   "source": [
    "# Modeli Saklama\n",
    "\n",
    "Modeli saklama kısmında, Pickle adlı python kütüphanesinden yararlanacağız. Pickle makine öğrenmesi modellerinin yapısını byte olarak tutmaya yarayan bir python kütüphanesi"
   ]
  },
  {
   "cell_type": "code",
   "execution_count": 115,
   "metadata": {},
   "outputs": [],
   "source": [
    "filename = 'base-model.sav'\n",
    "pickle.dump(model, open(filename, 'wb'))"
   ]
  },
  {
   "cell_type": "code",
   "execution_count": 117,
   "metadata": {},
   "outputs": [
    {
     "data": {
      "text/html": [
       "<div>\n",
       "<style scoped>\n",
       "    .dataframe tbody tr th:only-of-type {\n",
       "        vertical-align: middle;\n",
       "    }\n",
       "\n",
       "    .dataframe tbody tr th {\n",
       "        vertical-align: top;\n",
       "    }\n",
       "\n",
       "    .dataframe thead th {\n",
       "        text-align: right;\n",
       "    }\n",
       "</style>\n",
       "<table border=\"1\" class=\"dataframe\">\n",
       "  <thead>\n",
       "    <tr style=\"text-align: right;\">\n",
       "      <th></th>\n",
       "      <th>EXT_SOURCE_3</th>\n",
       "      <th>DAYS_LAST_PHONE_CHANGE</th>\n",
       "      <th>DAYS_CREDIT</th>\n",
       "      <th>EXT_SOURCE_2</th>\n",
       "      <th>AMT_CREDIT_x</th>\n",
       "      <th>AMT_ANNUITY_x</th>\n",
       "      <th>TARGET</th>\n",
       "    </tr>\n",
       "    <tr>\n",
       "      <th>SK_ID_CURR</th>\n",
       "      <th></th>\n",
       "      <th></th>\n",
       "      <th></th>\n",
       "      <th></th>\n",
       "      <th></th>\n",
       "      <th></th>\n",
       "      <th></th>\n",
       "    </tr>\n",
       "  </thead>\n",
       "  <tbody>\n",
       "    <tr>\n",
       "      <th>100002</th>\n",
       "      <td>0.139376</td>\n",
       "      <td>1134.0</td>\n",
       "      <td>1437.0</td>\n",
       "      <td>0.262949</td>\n",
       "      <td>406597.5</td>\n",
       "      <td>24700.5</td>\n",
       "      <td>1</td>\n",
       "    </tr>\n",
       "    <tr>\n",
       "      <th>100031</th>\n",
       "      <td>0.190706</td>\n",
       "      <td>161.0</td>\n",
       "      <td>1365.0</td>\n",
       "      <td>0.548477</td>\n",
       "      <td>979992.0</td>\n",
       "      <td>27076.5</td>\n",
       "      <td>1</td>\n",
       "    </tr>\n",
       "    <tr>\n",
       "      <th>100047</th>\n",
       "      <td>0.320163</td>\n",
       "      <td>1075.0</td>\n",
       "      <td>2055.0</td>\n",
       "      <td>0.306841</td>\n",
       "      <td>1193580.0</td>\n",
       "      <td>35028.0</td>\n",
       "      <td>1</td>\n",
       "    </tr>\n",
       "    <tr>\n",
       "      <th>100049</th>\n",
       "      <td>0.399676</td>\n",
       "      <td>1480.0</td>\n",
       "      <td>2179.0</td>\n",
       "      <td>0.674203</td>\n",
       "      <td>288873.0</td>\n",
       "      <td>16258.5</td>\n",
       "      <td>1</td>\n",
       "    </tr>\n",
       "    <tr>\n",
       "      <th>100096</th>\n",
       "      <td>0.720944</td>\n",
       "      <td>0.0</td>\n",
       "      <td>2922.0</td>\n",
       "      <td>0.023952</td>\n",
       "      <td>252000.0</td>\n",
       "      <td>14593.5</td>\n",
       "      <td>1</td>\n",
       "    </tr>\n",
       "  </tbody>\n",
       "</table>\n",
       "</div>"
      ],
      "text/plain": [
       "            EXT_SOURCE_3  DAYS_LAST_PHONE_CHANGE  DAYS_CREDIT  EXT_SOURCE_2  \\\n",
       "SK_ID_CURR                                                                    \n",
       "100002          0.139376                  1134.0       1437.0      0.262949   \n",
       "100031          0.190706                   161.0       1365.0      0.548477   \n",
       "100047          0.320163                  1075.0       2055.0      0.306841   \n",
       "100049          0.399676                  1480.0       2179.0      0.674203   \n",
       "100096          0.720944                     0.0       2922.0      0.023952   \n",
       "\n",
       "            AMT_CREDIT_x  AMT_ANNUITY_x  TARGET  \n",
       "SK_ID_CURR                                       \n",
       "100002          406597.5        24700.5       1  \n",
       "100031          979992.0        27076.5       1  \n",
       "100047         1193580.0        35028.0       1  \n",
       "100049          288873.0        16258.5       1  \n",
       "100096          252000.0        14593.5       1  "
      ]
     },
     "execution_count": 117,
     "metadata": {},
     "output_type": "execute_result"
    }
   ],
   "source": [
    "data[data.TARGET == 1].head()"
   ]
  },
  {
   "cell_type": "code",
   "execution_count": 118,
   "metadata": {},
   "outputs": [
    {
     "data": {
      "text/html": [
       "<div>\n",
       "<style scoped>\n",
       "    .dataframe tbody tr th:only-of-type {\n",
       "        vertical-align: middle;\n",
       "    }\n",
       "\n",
       "    .dataframe tbody tr th {\n",
       "        vertical-align: top;\n",
       "    }\n",
       "\n",
       "    .dataframe thead th {\n",
       "        text-align: right;\n",
       "    }\n",
       "</style>\n",
       "<table border=\"1\" class=\"dataframe\">\n",
       "  <thead>\n",
       "    <tr style=\"text-align: right;\">\n",
       "      <th></th>\n",
       "      <th>EXT_SOURCE_3</th>\n",
       "      <th>DAYS_LAST_PHONE_CHANGE</th>\n",
       "      <th>DAYS_CREDIT</th>\n",
       "      <th>EXT_SOURCE_2</th>\n",
       "      <th>AMT_CREDIT_x</th>\n",
       "      <th>AMT_ANNUITY_x</th>\n",
       "      <th>TARGET</th>\n",
       "    </tr>\n",
       "    <tr>\n",
       "      <th>SK_ID_CURR</th>\n",
       "      <th></th>\n",
       "      <th></th>\n",
       "      <th></th>\n",
       "      <th></th>\n",
       "      <th></th>\n",
       "      <th></th>\n",
       "      <th></th>\n",
       "    </tr>\n",
       "  </thead>\n",
       "  <tbody>\n",
       "    <tr>\n",
       "      <th>123614</th>\n",
       "      <td>0.000000</td>\n",
       "      <td>1746.0</td>\n",
       "      <td>0.0</td>\n",
       "      <td>0.315294</td>\n",
       "      <td>630000.0</td>\n",
       "      <td>31500.0</td>\n",
       "      <td>0</td>\n",
       "    </tr>\n",
       "    <tr>\n",
       "      <th>125883</th>\n",
       "      <td>0.703203</td>\n",
       "      <td>0.0</td>\n",
       "      <td>2345.0</td>\n",
       "      <td>0.233106</td>\n",
       "      <td>994500.0</td>\n",
       "      <td>32211.0</td>\n",
       "      <td>0</td>\n",
       "    </tr>\n",
       "    <tr>\n",
       "      <th>257333</th>\n",
       "      <td>0.191822</td>\n",
       "      <td>1809.0</td>\n",
       "      <td>259.0</td>\n",
       "      <td>0.768554</td>\n",
       "      <td>560664.0</td>\n",
       "      <td>18085.5</td>\n",
       "      <td>0</td>\n",
       "    </tr>\n",
       "    <tr>\n",
       "      <th>392683</th>\n",
       "      <td>0.591977</td>\n",
       "      <td>622.0</td>\n",
       "      <td>1564.0</td>\n",
       "      <td>0.557321</td>\n",
       "      <td>225000.0</td>\n",
       "      <td>23755.5</td>\n",
       "      <td>0</td>\n",
       "    </tr>\n",
       "    <tr>\n",
       "      <th>272454</th>\n",
       "      <td>0.000000</td>\n",
       "      <td>686.0</td>\n",
       "      <td>0.0</td>\n",
       "      <td>0.336269</td>\n",
       "      <td>180000.0</td>\n",
       "      <td>9000.0</td>\n",
       "      <td>0</td>\n",
       "    </tr>\n",
       "  </tbody>\n",
       "</table>\n",
       "</div>"
      ],
      "text/plain": [
       "            EXT_SOURCE_3  DAYS_LAST_PHONE_CHANGE  DAYS_CREDIT  EXT_SOURCE_2  \\\n",
       "SK_ID_CURR                                                                    \n",
       "123614          0.000000                  1746.0          0.0      0.315294   \n",
       "125883          0.703203                     0.0       2345.0      0.233106   \n",
       "257333          0.191822                  1809.0        259.0      0.768554   \n",
       "392683          0.591977                   622.0       1564.0      0.557321   \n",
       "272454          0.000000                   686.0          0.0      0.336269   \n",
       "\n",
       "            AMT_CREDIT_x  AMT_ANNUITY_x  TARGET  \n",
       "SK_ID_CURR                                       \n",
       "123614          630000.0        31500.0       0  \n",
       "125883          994500.0        32211.0       0  \n",
       "257333          560664.0        18085.5       0  \n",
       "392683          225000.0        23755.5       0  \n",
       "272454          180000.0         9000.0       0  "
      ]
     },
     "execution_count": 118,
     "metadata": {},
     "output_type": "execute_result"
    }
   ],
   "source": [
    "data[data.TARGET == 0].head()"
   ]
  },
  {
   "cell_type": "code",
   "execution_count": null,
   "metadata": {},
   "outputs": [],
   "source": []
  }
 ],
 "metadata": {
  "kernelspec": {
   "display_name": "Python 3",
   "language": "python",
   "name": "python3"
  },
  "language_info": {
   "codemirror_mode": {
    "name": "ipython",
    "version": 3
   },
   "file_extension": ".py",
   "mimetype": "text/x-python",
   "name": "python",
   "nbconvert_exporter": "python",
   "pygments_lexer": "ipython3",
   "version": "3.6.4"
  }
 },
 "nbformat": 4,
 "nbformat_minor": 2
}
